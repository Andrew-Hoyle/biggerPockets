{
 "cells": [
  {
   "cell_type": "code",
   "execution_count": 50,
   "id": "33398778",
   "metadata": {},
   "outputs": [
    {
     "name": "stdout",
     "output_type": "stream",
     "text": [
      "{'The ROI for the Bigger Pockets property: % 15.0 '}\n"
     ]
    }
   ],
   "source": [
    "class RoiCalc:\n",
    "    \n",
    "    def __init__(self, name, income, expense, total):\n",
    "        self.name = name\n",
    "        self.income = income\n",
    "        self.expense = expense\n",
    "        self.total = total\n",
    "    \n",
    "    \n",
    "    def roifunc(self):\n",
    "        cash_flow = (self.income - self.expense) * 12\n",
    "        roi = (cash_flow / self.total)*100\n",
    "        return {f\"The ROI for the {self.name} property: % {roi} \"}\n",
    "\n",
    "\n",
    "\n",
    "biggerPockets = RoiCalc('Bigger Pockets', 5000, 2500, 200000)\n",
    "\n",
    "print(biggerPockets.roifunc())\n"
   ]
  },
  {
   "cell_type": "code",
   "execution_count": 12,
   "id": "7a927aaa",
   "metadata": {},
   "outputs": [
    {
     "ename": "SyntaxError",
     "evalue": "invalid syntax (<ipython-input-12-a5d89b9a5fea>, line 17)",
     "output_type": "error",
     "traceback": [
      "\u001b[1;36m  File \u001b[1;32m\"<ipython-input-12-a5d89b9a5fea>\"\u001b[1;36m, line \u001b[1;32m17\u001b[0m\n\u001b[1;33m    class RoiCalc:\u001b[0m\n\u001b[1;37m    ^\u001b[0m\n\u001b[1;31mSyntaxError\u001b[0m\u001b[1;31m:\u001b[0m invalid syntax\n"
     ]
    }
   ],
   "source": [
    "def get_income():\n",
    "    rent = input('Monthly Rental:  ')\n",
    "    storage = input('Storage Fee:  ')\n",
    "    income = (rent+storage)\n",
    "    return print(income)\n",
    "\n",
    "get_income()\n",
    "\n",
    "def get_expenses():\n",
    "    mortage = input('Mortgage:  ')\n",
    "    management = input('Management Fee:  ')\n",
    "    insurance = ('Enter Insurance Per Month:  ')\n",
    "    tax = input('Enter Tax: % ')\n",
    "    expense = (mortage+management+insurace) / (100*0.0 (tax)\n",
    "\n",
    "\n",
    "class RoiCalc:\n",
    "    \n",
    "    def __init__(self, name, income, expense, total):\n",
    "        self.name = name\n",
    "        self.income = income\n",
    "        self.expense = expense\n",
    "        self.total = total\n",
    "        \n",
    "    \n",
    "    \n",
    "    def roifunc(self):\n",
    "        cash_flow = (self.income - self.expense) * 12\n",
    "        roi = (cash_flow / self.total)*100\n",
    "        return {f\"The ROI for the {self.name} property: % {roi} \"}\n",
    "\n",
    "    "
   ]
  },
  {
   "cell_type": "code",
   "execution_count": null,
   "id": "b004ae8d",
   "metadata": {},
   "outputs": [],
   "source": []
  }
 ],
 "metadata": {
  "kernelspec": {
   "display_name": "Python 3",
   "language": "python",
   "name": "python3"
  },
  "language_info": {
   "codemirror_mode": {
    "name": "ipython",
    "version": 3
   },
   "file_extension": ".py",
   "mimetype": "text/x-python",
   "name": "python",
   "nbconvert_exporter": "python",
   "pygments_lexer": "ipython3",
   "version": "3.8.8"
  }
 },
 "nbformat": 4,
 "nbformat_minor": 5
}
